{
 "cells": [
  {
   "cell_type": "code",
   "execution_count": null,
   "id": "4a446ac2",
   "metadata": {},
   "outputs": [],
   "source": [
    "try:\n",
    "    no1=int(input(\"Enter the first no:\"))\n",
    "    no2=int(input(\"Enter the second no:\"))\n",
    "    print(\"The sum of the no is:\",no1/no2)\n",
    "except ZeroDivisionError:\n",
    "    print(\"cant divide by zero\")\n",
    "except ValueError:\n",
    "    print(\"Please enter a valid number\")\n",
    "except Exception as e:\n",
    "    print(\"You got an error:\",e)\n",
    "finally:\n",
    "    print(\"Called\")                "
   ]
  },
  {
   "cell_type": "code",
   "execution_count": null,
   "id": "c2f53d9f",
   "metadata": {},
   "outputs": [],
   "source": [
    "num1=int(input(\"Entre the 1st nu:\"))\n",
    "num2=int(input(\"Entre the 2nd nu:\"))\n",
    "x=int(num1)\n",
    "y=int(num2)\n",
    "result=x+y\n",
    "print(\"*\"*100)\n",
    "print(\"The result isss:\",str(result))\n",
    "print(\"*\"*100)\n",
    "\n"
   ]
  },
  {
   "cell_type": "code",
   "execution_count": null,
   "id": "427d25f1",
   "metadata": {},
   "outputs": [],
   "source": [
    "for i in \"Anjal\":\n",
    "    print(i)"
   ]
  },
  {
   "cell_type": "code",
   "execution_count": null,
   "id": "01a6a3c0",
   "metadata": {},
   "outputs": [],
   "source": [
    "for i in range(1,11):\n",
    "    print(i)"
   ]
  },
  {
   "cell_type": "code",
   "execution_count": null,
   "id": "f3cdb3d8",
   "metadata": {},
   "outputs": [],
   "source": [
    "nnumber=int(input(\"Enter the number:\"))\n",
    "for i in range(1,11):\n",
    "    print(i,\"*\",nnumber,\"=\",i*nnumber)"
   ]
  },
  {
   "cell_type": "code",
   "execution_count": null,
   "id": "d35ebbce",
   "metadata": {},
   "outputs": [],
   "source": [
    "def add():\n",
    "    nu1=int(input(\"Enter tge first mu:\"))\n",
    "    nu2=int(input(\"Enter tge sec mu:\"))\n",
    "    print(\"The sum of the number:\",nu1+nu2)\n",
    "add()    "
   ]
  },
  {
   "cell_type": "code",
   "execution_count": null,
   "id": "2133278d",
   "metadata": {},
   "outputs": [],
   "source": [
    "class demo():\n",
    "    name=\"Anjal\"\n",
    "    def hello(self):\n",
    "        print(\"hello world\")\n",
    "    def hi(self):\n",
    "        print(\"welcome\")\n",
    "new=demo()\n",
    "new.hello()\n",
    "new.hi()"
   ]
  },
  {
   "cell_type": "code",
   "execution_count": null,
   "id": "879b3137",
   "metadata": {},
   "outputs": [],
   "source": [
    "class demo():\n",
    "    name= \"Anjal\"\n",
    "    def hello(self):\n",
    "        print(\"Hello world\")\n",
    "    def hi(self):\n",
    "        print(\"Welcome\")    \n",
    "class child(demo):\n",
    "    pass\n",
    "new=child()\n",
    "new.hello() \n",
    "new.hi()       "
   ]
  },
  {
   "cell_type": "code",
   "execution_count": null,
   "id": "8ecde574",
   "metadata": {},
   "outputs": [],
   "source": [
    "class demo():\n",
    "    name= \"Anjal\"\n",
    "    def hello(self):\n",
    "        print(\"Hello world\")\n",
    "    def hi(self):\n",
    "        print(\"Welcome\")    \n",
    "class child(demo):\n",
    "    def house(self):\n",
    "        print(\"this is the house\")\n",
    "    def home(self):\n",
    "        print(\"This is the hpme\")\n",
    "class child2(child):\n",
    "    def ho(self):\n",
    "        print(\"this is the house\")\n",
    "    def hom(self):\n",
    "        print(\"This is the hpme\")\n",
    "new=child2()\n",
    "new.hello() \n",
    "new.hi() \n",
    "new.house()  \n",
    "new.home()  \n",
    "print(new.name)"
   ]
  },
  {
   "cell_type": "code",
   "execution_count": null,
   "id": "581c1f34",
   "metadata": {},
   "outputs": [],
   "source": [
    "class main():\n",
    "    def ma(self):\n",
    "        print(\"Thi is the main\")\n",
    "class demo():\n",
    "    name= \"Anjal\"\n",
    "    def hello(self):\n",
    "        print(\"Hello world\")\n",
    "    def hi(self):\n",
    "        print(\"Welcome\")    \n",
    "class child(demo):\n",
    "    def house(self):\n",
    "        print(\"this is the house\")\n",
    "    def home(self):\n",
    "        print(\"This is the hpme\")\n",
    "class anjal(main,child):\n",
    "    def aa(self):\n",
    "        print(\"thi is the aa\")\n",
    "new=anjal()\n",
    "new.hello()  \n",
    "new.house()         \n",
    "new.ma()         \n",
    "new.aa()         "
   ]
  },
  {
   "cell_type": "code",
   "execution_count": null,
   "id": "25e2d1e5",
   "metadata": {},
   "outputs": [],
   "source": [
    "              # over riding\n",
    "class Demo():\n",
    "    def hello(self):\n",
    "        print(\"This is the hello fn:\")\n",
    "    def hi(self):\n",
    "        print(\"This is the hi fn:\")        \n",
    "class child(Demo):\n",
    "    def hello(self):\n",
    "        print(\"This is the child class fn:\")\n",
    "x=child()\n",
    "x.hello()\n",
    "y=Demo()\n",
    "y.hello()\n",
    "             "
   ]
  },
  {
   "cell_type": "code",
   "execution_count": null,
   "id": "18308e68",
   "metadata": {},
   "outputs": [],
   "source": [
    "\n",
    "    #   access modifier\n",
    "class ddemo():\n",
    "    _name=\"Aju\"\n",
    "    def  hi(self):\n",
    "        self.__hello()\n",
    "        print(\"welcome\")\n",
    "    def _welcome(self):\n",
    "        print(\"welcome to\")\n",
    "    def __hello(self):\n",
    "        print(\"hello world\")\n",
    "x=ddemo()\n",
    "x.hi()     \n",
    "x._welcome()   \n",
    "print(x._name)\n"
   ]
  },
  {
   "cell_type": "code",
   "execution_count": 36,
   "id": "a07a7327",
   "metadata": {},
   "outputs": [
    {
     "name": "stdout",
     "output_type": "stream",
     "text": [
      "Hi fun\n",
      "hello fn\n",
      "welcome fn\n"
     ]
    }
   ],
   "source": [
    "  #   access modifier wit constructor\n",
    "class Demo():\n",
    "    def __init__(self):\n",
    "        self.name=\"Anjal\"\n",
    "    def hi(self):\n",
    "        print(\"Hi fun\")\n",
    "    def _hello(self):\n",
    "        print(\"hello fn\")\n",
    "    def ___welcome(self):\n",
    "        print(\"welcome fn\")\n",
    "    def help(self):\n",
    "        self.___welcome()\n",
    "nn=Demo()\n",
    "nn.hi()     \n",
    "nn._hello()  \n",
    "nn.help() \n",
    "\n"
   ]
  }
 ],
 "metadata": {
  "kernelspec": {
   "display_name": "Python 3",
   "language": "python",
   "name": "python3"
  },
  "language_info": {
   "codemirror_mode": {
    "name": "ipython",
    "version": 3
   },
   "file_extension": ".py",
   "mimetype": "text/x-python",
   "name": "python",
   "nbconvert_exporter": "python",
   "pygments_lexer": "ipython3",
   "version": "3.13.7"
  }
 },
 "nbformat": 4,
 "nbformat_minor": 5
}
