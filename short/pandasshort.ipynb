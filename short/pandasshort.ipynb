{
 "cells": [
  {
   "cell_type": "code",
   "execution_count": null,
   "id": "3c295c29",
   "metadata": {},
   "outputs": [],
   "source": [
    "import pandas as pd"
   ]
  },
  {
   "cell_type": "code",
   "execution_count": null,
   "id": "39167bd2",
   "metadata": {},
   "outputs": [],
   "source": [
    "datas={\"Name\":[\"Anjal\",\"Aju\",\"Aj\"],\"Age\":[\"21,22,23\"]}\n",
    "datas"
   ]
  },
  {
   "cell_type": "code",
   "execution_count": null,
   "id": "b4c2cb61",
   "metadata": {},
   "outputs": [],
   "source": [
    "datas={\"Name\":[\"Anjal\",\"Aju\",\"Aj\"],\"Age\":[\"21,22,23\"]}\n",
    "df=pd.Series(datas)\n",
    "df"
   ]
  },
  {
   "cell_type": "code",
   "execution_count": null,
   "id": "45796841",
   "metadata": {},
   "outputs": [],
   "source": [
    "datas={\"Name\":[\"Anjal\",\"Aju\",\"Aj\"],\"Age\":[21,22,23]}\n",
    "df=pd.DataFrame(datas)\n",
    "df\n",
    "# data={\"Name\":[\"Anjal\",\"Haris\",\"Akash\"],\"Age\":[25,22,20]}\n",
    "# df=pd.DataFrame(data)\n",
    "# df"
   ]
  },
  {
   "cell_type": "code",
   "execution_count": null,
   "id": "f450f915",
   "metadata": {},
   "outputs": [],
   "source": [
    "import pandas as pd\n",
    "df=pd.read_csv(\"sample.csv\")\n",
    "df"
   ]
  },
  {
   "cell_type": "code",
   "execution_count": null,
   "id": "39c1c7d0",
   "metadata": {},
   "outputs": [],
   "source": [
    "import pandas as pd\n",
    "df=pd.read_csv(\"sample.csv\")\n",
    "df.head(6)\n"
   ]
  },
  {
   "cell_type": "code",
   "execution_count": null,
   "id": "965fb43a",
   "metadata": {},
   "outputs": [],
   "source": [
    "import pandas as pd\n",
    "df=pd.read_csv(\"sample.csv\")\n",
    "df.tail(6)\n"
   ]
  },
  {
   "cell_type": "code",
   "execution_count": null,
   "id": "a9d4c53d",
   "metadata": {},
   "outputs": [],
   "source": [
    "import pandas as pd\n",
    "df=pd.read_csv(\"sample.csv\")\n",
    "df.info()\n"
   ]
  },
  {
   "cell_type": "code",
   "execution_count": null,
   "id": "4e83f12a",
   "metadata": {},
   "outputs": [],
   "source": [
    "import pandas as pd\n",
    "df=pd.read_csv(\"sample.csv\")\n",
    "df.add_prefix(\"car_\")\n"
   ]
  },
  {
   "cell_type": "code",
   "execution_count": null,
   "id": "9fbaf52d",
   "metadata": {},
   "outputs": [],
   "source": [
    "import pandas as pd\n",
    "df=pd.read_csv(\"sample.csv\")\n",
    "df.add_suffix(\"_of the system\")\n"
   ]
  },
  {
   "cell_type": "code",
   "execution_count": null,
   "id": "cd74f2b6",
   "metadata": {},
   "outputs": [],
   "source": [
    "import pandas as pd\n",
    "df=pd.read_csv(\"sample.csv\")\n",
    "df.dropna(inplace=True)\n",
    "df\n"
   ]
  },
  {
   "cell_type": "code",
   "execution_count": null,
   "id": "3e3c2d5f",
   "metadata": {},
   "outputs": [],
   "source": [
    "import pandas as pd\n",
    "df=pd.read_csv(\"sample.csv\")\n",
    "df.dropna(inplace=True)\n",
    "df\n"
   ]
  },
  {
   "cell_type": "code",
   "execution_count": null,
   "id": "20526bb3",
   "metadata": {},
   "outputs": [],
   "source": [
    "import pandas as pd\n",
    "df=pd.read_csv(\"sample.csv\")\n",
    "df.fillna(\"Zero\",inplace=True)\n",
    "df\n"
   ]
  },
  {
   "cell_type": "code",
   "execution_count": null,
   "id": "5f12041d",
   "metadata": {},
   "outputs": [],
   "source": []
  },
  {
   "cell_type": "code",
   "execution_count": null,
   "id": "fa033fa8",
   "metadata": {},
   "outputs": [],
   "source": [
    "df=pd.read_csv(\"sample.csv\")\n",
    "df.columns\n"
   ]
  },
  {
   "cell_type": "code",
   "execution_count": null,
   "id": "5f7289ac",
   "metadata": {},
   "outputs": [],
   "source": [
    "df=pd.read_csv(\"sample.csv\")\n",
    "df.axes\n"
   ]
  },
  {
   "cell_type": "code",
   "execution_count": null,
   "id": "7b14a741",
   "metadata": {},
   "outputs": [],
   "source": [
    "df=pd.read_csv(\"sample.csv\")\n",
    "df.describe()\n"
   ]
  },
  {
   "cell_type": "code",
   "execution_count": null,
   "id": "f59eace0",
   "metadata": {},
   "outputs": [],
   "source": [
    "df=pd.read_csv(\"sample.csv\")\n",
    "df.shape\n"
   ]
  },
  {
   "cell_type": "code",
   "execution_count": null,
   "id": "6432da51",
   "metadata": {},
   "outputs": [],
   "source": [
    "df=pd.read_csv(\"sample.csv\")\n",
    "newdf=df.fillna(\"zero\")\n",
    "newdf\n"
   ]
  },
  {
   "cell_type": "code",
   "execution_count": null,
   "id": "0d83aa1c",
   "metadata": {},
   "outputs": [],
   "source": [
    "df=pd.read_csv(\"sample.csv\")\n",
    "df[\"Name\"].fillna(\"ROLL\",inplace=True)\n",
    "df\n",
    "\n"
   ]
  },
  {
   "cell_type": "code",
   "execution_count": null,
   "id": "e9c1d3cc",
   "metadata": {},
   "outputs": [],
   "source": [
    "df=pd.read_csv(\"sample.csv\")\n",
    "# df.loc[4]\n",
    "df.take([4])"
   ]
  },
  {
   "cell_type": "code",
   "execution_count": null,
   "id": "93a11462",
   "metadata": {},
   "outputs": [],
   "source": [
    "df=pd.read_csv(\"Inventory_v2.csv\")\n",
    "# df.filter(items=[\"inventoryType\",\"quantity\"])\n",
    "df.get([\"quantity\",\"inventoryType\"])\n",
    "# df\n"
   ]
  },
  {
   "cell_type": "code",
   "execution_count": null,
   "id": "c72b9864",
   "metadata": {},
   "outputs": [],
   "source": [
    "df=pd.read_csv(\"sample.csv\")\n",
    "df.drop_duplicates()"
   ]
  },
  {
   "cell_type": "code",
   "execution_count": null,
   "id": "307bc3f0",
   "metadata": {},
   "outputs": [],
   "source": [
    "# df=pd.read_csv(\"sample.csv\")\n",
    "data={\"Name\":[\"Anjal\",\"Aju\",\"Aj\"],\"Age\":[21,22,23]}\n",
    "df=pd.DataFrame(data)\n",
    "df.at[1,\"Age\"]\n"
   ]
  },
  {
   "cell_type": "code",
   "execution_count": null,
   "id": "4418b067",
   "metadata": {},
   "outputs": [],
   "source": [
    "import pandas as pd\n",
    "\n",
    "# Create a DataFrame\n",
    "data = {\n",
    "    'Name': ['Anjal', 'Aju', 'Alana'],\n",
    "    'Age': [22, 25, 20],\n",
    "    'City': ['Kochi', 'Chennai', 'Delhi']\n",
    "}\n",
    "\n",
    "df = pd.DataFrame(data)\n",
    "\n",
    "\n",
    "\n",
    "# Access a single value using .at\n",
    "age_of_aju = df.at[1, 'Age']\n",
    "print(\"\\nAge of Aju:\", age_of_aju)\n",
    "\n",
    "# Modify a single value using .at\n",
    "df.at[2, 'City'] = 'Mumbai'\n",
    "\n",
    "print(\"\\nUpdated DataFrame:\\n\", df)\n"
   ]
  },
  {
   "cell_type": "code",
   "execution_count": null,
   "id": "343506b4",
   "metadata": {},
   "outputs": [],
   "source": []
  }
 ],
 "metadata": {
  "kernelspec": {
   "display_name": "Python 3",
   "language": "python",
   "name": "python3"
  },
  "language_info": {
   "codemirror_mode": {
    "name": "ipython",
    "version": 3
   },
   "file_extension": ".py",
   "mimetype": "text/x-python",
   "name": "python",
   "nbconvert_exporter": "python",
   "pygments_lexer": "ipython3",
   "version": "3.13.7"
  }
 },
 "nbformat": 4,
 "nbformat_minor": 5
}
