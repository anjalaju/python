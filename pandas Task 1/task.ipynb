{
 "cells": [
  {
   "cell_type": "code",
   "execution_count": null,
   "id": "e86dd265",
   "metadata": {},
   "outputs": [],
   "source": [
    "import pandas as pd"
   ]
  },
  {
   "cell_type": "code",
   "execution_count": null,
   "id": "de9b3fb8",
   "metadata": {},
   "outputs": [],
   "source": [
    "df=pd.read_csv(\"student_marks.csv\")\n",
    "df"
   ]
  },
  {
   "cell_type": "code",
   "execution_count": null,
   "id": "4670f542",
   "metadata": {},
   "outputs": [],
   "source": [
    "df=pd.read_csv(\"student_marks.csv\")\n",
    "df[\"Total_marks\"]=df.select_dtypes(include=[\"int\"]).sum(axis=1)\n",
    "df[\"Average_marks\"]=df.select_dtypes(include=[\"int\"]).mean(axis=1)\n",
    "df"
   ]
  }
 ],
 "metadata": {
  "kernelspec": {
   "display_name": "Python 3",
   "language": "python",
   "name": "python3"
  },
  "language_info": {
   "codemirror_mode": {
    "name": "ipython",
    "version": 3
   },
   "file_extension": ".py",
   "mimetype": "text/x-python",
   "name": "python",
   "nbconvert_exporter": "python",
   "pygments_lexer": "ipython3",
   "version": "3.13.7"
  }
 },
 "nbformat": 4,
 "nbformat_minor": 5
}
