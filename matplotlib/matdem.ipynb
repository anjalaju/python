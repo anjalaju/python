{
 "cells": [
  {
   "cell_type": "code",
   "execution_count": null,
   "id": "3babbfec",
   "metadata": {},
   "outputs": [],
   "source": [
    "import pandas as pd\n",
    "import matplotlib.pyplot as plt\n"
   ]
  },
  {
   "cell_type": "code",
   "execution_count": null,
   "id": "59167979",
   "metadata": {},
   "outputs": [],
   "source": [
    "df=pd.read_csv(\"anjal_st.csv\")\n",
    "df\n",
    "plt.plot(df[\"Unnamed: 0\"],df[\"English\"],marker=\"o\",ms=8,mec=\"k\",mfc=\"b\",linewidth=3,linestyle=\"-.\",color=\"r\")\n",
    "plt.show()"
   ]
  },
  {
   "cell_type": "code",
   "execution_count": null,
   "id": "f0169027",
   "metadata": {},
   "outputs": [],
   "source": [
    "x=[2,5,6,8,9]\n",
    "y=[20,30,18,25,33]\n",
    "z=[10,23,14,28]\n",
    "plt.figure(figsize=(10,5))\n",
    "plt.plot(x,\"m\",label=\"x_point\",marker=\"o\",ms=\"5\")\n",
    "plt.plot(y,\"c\",label=\"y_point\")\n",
    "plt.plot(z,\"r\",label=\"z_point\")\n",
    "font1={\"family\":\"Times New Roman\",\"color\":\"m\",\"size\":18}\n",
    "font2={\"family\":\"Times New Roman\",\"color\":\"r\",\"size\":25}\n",
    "plt.legend(shadow=True,loc=\"upper right\",title=\"Axis\",title_fontsize=10,fontsize=8)\n",
    "plt.title(\"Class\",fontdict=font2)\n",
    "plt.xlabel(\"This is x point\",fontdict=font1)  #,loc=\"right\"\n",
    "plt.ylabel(\"This is y point\",fontdict=font1)  #,loc=\"top\"\n",
    "ax=plt.gca()\n",
    "ax.spines[\"top\"].set_visible(False)\n",
    "ax.spines[\"right\"].set_visible(False)\n",
    "plt.tight_layout()\n",
    "plt.show()"
   ]
  },
  {
   "cell_type": "code",
   "execution_count": null,
   "id": "f3ee7bd7",
   "metadata": {},
   "outputs": [],
   "source": [
    "x=[2,5,6,8,9]\n",
    "y=[20,30,18,25,33]\n",
    "z=[10,23,14,28]\n",
    "plt.figure(figsize=(10,5))\n",
    "plt.plot(x,\"m\",label=\"x_point\",ms=30)\n",
    "plt.plot(y,\"g\",label=\"y_point\")\n",
    "plt.plot(z,\"b\",label=\"z_point\")\n",
    "plt.legend(shadow=True,title=\"Axis Point\",loc=\"upper right\",title_fontsize=12,fontsize=10)\n",
    "font1={\"family\":\"Times New Roman\",\"color\":\"c\",\"size\":10}\n",
    "font2={\"family\":\"Times New Roman\",\"color\":\"r\",\"size\":15}\n",
    "plt.xlabel(\"x is the student\",fontdict=font1)\n",
    "plt.ylabel(\"y is the marks\",fontdict=font1)\n",
    "plt.title(\"Class Graph\",fontdict=font2)\n",
    "axis=plt.gca()\n",
    "axis.spines[\"top\"].set_visible(False)\n",
    "axis.spines[\"right\"].set_visible(False)\n",
    "plt.tight_layout()\n",
    "plt.grid(True)\n",
    "plt.show()"
   ]
  },
  {
   "cell_type": "code",
   "execution_count": null,
   "id": "5935ccf8",
   "metadata": {},
   "outputs": [],
   "source": [
    "x=[2,5,6,8,9]\n",
    "y=[20,30,10,25,33]\n",
    "plt.figure(figsize=(10,5))\n",
    "plt.subplot(1,2,1)\n",
    "plt.plot(x,y)\n",
    "plt.title(\"x\")\n",
    "x=[2,5,6,8,9]\n",
    "y=[20,30,10,25,33]\n",
    "plt.subplot(2,2,2)\n",
    "plt.plot(x,y)\n",
    "plt.title(\"y\")\n",
    "x=[2,5,6,8,9]\n",
    "y=[20,30,10,25,33]\n",
    "plt.subplot(2,2,4)\n",
    "plt.plot(x,y)\n",
    "plt.title(\"z\")\n",
    "plt.show()\n"
   ]
  },
  {
   "cell_type": "code",
   "execution_count": null,
   "id": "a01c5c65",
   "metadata": {},
   "outputs": [],
   "source": [
    "import matplotlib.pyplot as plt\n",
    "\n",
    "x = [2, 5, 6, 8, 9]\n",
    "y = [20, 30, 10, 25, 33]\n",
    "\n",
    "plt.figure(figsize=(8, 8))  # optional: control figure size\n",
    "\n",
    "plt.subplot(3, 1, 1)\n",
    "plt.plot(x, y, \"m\")\n",
    "plt.title(\"x\")\n",
    "\n",
    "plt.subplot(3, 1, 2)\n",
    "plt.plot(x, y, \"c\")\n",
    "plt.title(\"y\")\n",
    "\n",
    "plt.subplot(3, 1, 3)\n",
    "plt.plot(x, y, \"r\")\n",
    "plt.title(\"z\")\n",
    "\n",
    "plt.tight_layout()\n",
    "plt.show()\n"
   ]
  },
  {
   "cell_type": "code",
   "execution_count": null,
   "id": "85e629a3",
   "metadata": {},
   "outputs": [],
   "source": [
    "import matplotlib.pyplot as plt\n",
    "\n",
    "# Data\n",
    "x = [2, 5, 6, 8, 9]\n",
    "y = [20, 30, 10, 25, 33]\n",
    "\n",
    "# Create figure\n",
    "plt.figure(figsize=(12, 4))  # width=12, height=4\n",
    "\n",
    "# Plot 1\n",
    "plt.subplot(1, 3, 1)   # 1 row, 3 columns, first plot\n",
    "plt.plot(x, y, 'm')\n",
    "plt.title(\"Graph 1 - X\")\n",
    "\n",
    "# Plot 2\n",
    "plt.subplot(1, 3, 2)   # 1 row, 3 columns, second plot\n",
    "plt.plot(x, y, 'c')\n",
    "plt.title(\"Graph 2 - Y\")\n",
    "\n",
    "# Plot 3\n",
    "plt.subplot(1, 3, 3)   # 1 row, 3 columns, third plot\n",
    "plt.plot(x, y, 'r')\n",
    "plt.title(\"Graph 3 - Z\")\n",
    "\n",
    "# Adjust layout and show\n",
    "plt.tight_layout()\n",
    "plt.show()\n"
   ]
  },
  {
   "cell_type": "code",
   "execution_count": null,
   "id": "09075069",
   "metadata": {},
   "outputs": [],
   "source": [
    "x=[20,30,18,25,33]\n",
    "y=[10,23,14,28]\n",
    "plt.figure(figsize=(12, 8)) \n",
    "for i in range(1, 9):\n",
    "    plt.subplot(4, 2, i) \n",
    "    plt.plot(x,\"m\",label=\"x_point\",marker=\"o\",ms=8,mec=\"k\",mfc=\"b\",linewidth=3,linestyle=\"-.\",color=\"r\")\n",
    "    plt.plot(y,\"c\",label=\"y_point\",marker=\"o\",ms=8,mec=\"k\",mfc=\"c\",linewidth=3,linestyle=\"-.\",color=\"g\")\n",
    "    plt.legend(shadow=True,loc=\"upper right\",title=\"Axis\",title_fontsize=10,fontsize=8)\n",
    "    plt.title(\"Graph \" + str(i))\n",
    "    plt.xlabel(\"X-axis\")\n",
    "    plt.ylabel(\"Y-axis\")\n",
    "plt.tight_layout()\n",
    "plt.show()\n"
   ]
  },
  {
   "cell_type": "code",
   "execution_count": null,
   "id": "60145e69",
   "metadata": {},
   "outputs": [],
   "source": [
    "x=[20,30,18,25,33]\n",
    "y=[10,23,14,28]\n",
    "plt.figure(figsize=(12, 8)) \n",
    "for i in range(1, 9):\n",
    "    plt.subplot(4, 2, i) \n",
    "    plt.plot(x)\n",
    "    plt.plot(y)\n",
    "plt.tight_layout()\n",
    "plt.show()"
   ]
  }
 ],
 "metadata": {
  "kernelspec": {
   "display_name": "Python 3",
   "language": "python",
   "name": "python3"
  },
  "language_info": {
   "codemirror_mode": {
    "name": "ipython",
    "version": 3
   },
   "file_extension": ".py",
   "mimetype": "text/x-python",
   "name": "python",
   "nbconvert_exporter": "python",
   "pygments_lexer": "ipython3",
   "version": "3.13.7"
  }
 },
 "nbformat": 4,
 "nbformat_minor": 5
}
