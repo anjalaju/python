{
 "cells": [
  {
   "cell_type": "code",
   "execution_count": null,
   "id": "27aa9ee2",
   "metadata": {},
   "outputs": [],
   "source": [
    "import pandas as pd\n",
    "import matplotlib.pyplot as plt\n"
   ]
  },
  {
   "cell_type": "code",
   "execution_count": null,
   "id": "9659dbce",
   "metadata": {},
   "outputs": [],
   "source": [
    "x=[20,30,18,25,33]\n",
    "y=[10,23,14,28]\n",
    "plt.figure(figsize=(12, 8)) \n",
    "for i in range(1, 9):\n",
    "    plt.subplot(4, 2, i) \n",
    "    plt.plot(x,\"m\",label=\"x_point\",marker=\"o\",ms=8,mec=\"k\",mfc=\"b\",linewidth=3,linestyle=\"-.\",color=\"r\")\n",
    "    plt.plot(y,\"c\",label=\"y_point\",marker=\"o\",ms=8,mec=\"k\",mfc=\"c\",linewidth=3,linestyle=\"-.\",color=\"g\")\n",
    "    plt.legend(shadow=True,loc=\"upper right\",title=\"Axis\",title_fontsize=10,fontsize=8)\n",
    "    plt.title(\"Graph \" + str(i))\n",
    "    plt.xlabel(\"X-axis\")\n",
    "    plt.ylabel(\"Y-axis\")\n",
    "plt.tight_layout()\n",
    "plt.show()"
   ]
  },
  {
   "cell_type": "code",
   "execution_count": null,
   "id": "536934be",
   "metadata": {},
   "outputs": [],
   "source": [
    "x=[20,30,18,25,33]\n",
    "y=[10,23,14,28]\n",
    "plt.figure(figsize=(12, 8)) \n",
    "for i in range(1, 9):\n",
    "    plt.subplot(4, 2, i) \n",
    "    plt.plot(x)\n",
    "    plt.plot(y)\n",
    "plt.tight_layout()\n",
    "plt.show()"
   ]
  },
  {
   "cell_type": "code",
   "execution_count": null,
   "id": "64d689dc",
   "metadata": {},
   "outputs": [],
   "source": [
    "x=[2,5,6,8,9]\n",
    "y=[20,30,10,25,33]\n",
    "plt.figure(figsize=(10,5))\n",
    "plt.subplot(1,2,1)\n",
    "plt.plot(x,y)\n",
    "plt.title(\"x\")\n",
    "x=[2,5,6,8,9]\n",
    "y=[20,30,10,25,33]\n",
    "plt.subplot(2,2,2)\n",
    "plt.plot(x,y)\n",
    "plt.title(\"y\")\n",
    "x=[2,5,6,8,9]\n",
    "y=[20,30,10,25,33]\n",
    "plt.subplot(2,2,4)\n",
    "plt.plot(x,y)\n",
    "plt.title(\"z\")\n",
    "plt.show()\n"
   ]
  }
 ],
 "metadata": {
  "kernelspec": {
   "display_name": "Python 3",
   "language": "python",
   "name": "python3"
  },
  "language_info": {
   "codemirror_mode": {
    "name": "ipython",
    "version": 3
   },
   "file_extension": ".py",
   "mimetype": "text/x-python",
   "name": "python",
   "nbconvert_exporter": "python",
   "pygments_lexer": "ipython3",
   "version": "3.13.7"
  }
 },
 "nbformat": 4,
 "nbformat_minor": 5
}
