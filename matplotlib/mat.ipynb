{
 "cells": [
  {
   "cell_type": "code",
   "execution_count": null,
   "id": "42614e13",
   "metadata": {},
   "outputs": [],
   "source": [
    "import matplotlib.pyplot as plt\n",
    "import pandas as pd"
   ]
  },
  {
   "cell_type": "code",
   "execution_count": null,
   "id": "5ff9af9d",
   "metadata": {},
   "outputs": [],
   "source": [
    "x=[2,5,6,8,9]\n",
    "y=[20,20,10,25,33]\n",
    "plt.figure(figsize=(8,5))\n",
    "plt.plot(x,y,marker=\"o\")\n",
    "plt.show()"
   ]
  },
  {
   "cell_type": "code",
   "execution_count": null,
   "id": "08feb9cd",
   "metadata": {},
   "outputs": [],
   "source": [
    "df=pd.read_csv(\"anjal_st.csv\")\n",
    "df\n",
    "plt.figure(figsize=(10,5))\n",
    "plt.plot(df[\"Unnamed: 0\"],df[\"English\"],marker=\"o\",mec=\"k\",mfc=\"r\",linestyle=\"-.\",color=\"g\")\n",
    "plt.xlabel(\"Students Name\")\n",
    "plt.ylabel(\"Students Marks\")\n",
    "plt.title(\"Students Marks\")\n",
    "plt.xticks(rotation=60)\n",
    "plt.grid(True)\n",
    "plt.show()"
   ]
  }
 ],
 "metadata": {
  "kernelspec": {
   "display_name": "Python 3",
   "language": "python",
   "name": "python3"
  },
  "language_info": {
   "codemirror_mode": {
    "name": "ipython",
    "version": 3
   },
   "file_extension": ".py",
   "mimetype": "text/x-python",
   "name": "python",
   "nbconvert_exporter": "python",
   "pygments_lexer": "ipython3",
   "version": "3.13.7"
  }
 },
 "nbformat": 4,
 "nbformat_minor": 5
}
