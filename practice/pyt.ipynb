{
 "cells": [
  {
   "cell_type": "code",
   "execution_count": null,
   "id": "353743fd",
   "metadata": {},
   "outputs": [],
   "source": [
    "num1=input(\"Enter the first no : \")\n",
    "num2=input(\"Enter the second no : \")\n",
    "x=int(num1)\n",
    "y=int(num2)\n",
    "result=x+y\n",
    "print(\"-\"*50)\n",
    "print(\"The result is :\"+ str(result)) \n",
    "print(\"-\"*50)\n",
    "\n"
   ]
  },
  {
   "cell_type": "code",
   "execution_count": null,
   "id": "2195a314",
   "metadata": {},
   "outputs": [],
   "source": [
    "number=int(input(\"Enter a number : \"))\n",
    "for i in range(1,11):\n",
    "    print(number,\"*\",i,\"=\",number*i)\n",
    "else:\n",
    "    pass"
   ]
  },
  {
   "cell_type": "code",
   "execution_count": null,
   "id": "feb1848f",
   "metadata": {},
   "outputs": [],
   "source": []
  },
  {
   "cell_type": "code",
   "execution_count": null,
   "id": "b4c29461",
   "metadata": {},
   "outputs": [],
   "source": []
  }
 ],
 "metadata": {
  "kernelspec": {
   "display_name": "Python 3",
   "language": "python",
   "name": "python3"
  },
  "language_info": {
   "codemirror_mode": {
    "name": "ipython",
    "version": 3
   },
   "file_extension": ".py",
   "mimetype": "text/x-python",
   "name": "python",
   "nbconvert_exporter": "python",
   "pygments_lexer": "ipython3",
   "version": "3.13.7"
  }
 },
 "nbformat": 4,
 "nbformat_minor": 5
}
