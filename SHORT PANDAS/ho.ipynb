{
 "cells": [
  {
   "cell_type": "code",
   "execution_count": null,
   "id": "341ed37b",
   "metadata": {},
   "outputs": [],
   "source": [
    "import pandas as pd"
   ]
  },
  {
   "cell_type": "code",
   "execution_count": null,
   "id": "62b5091a",
   "metadata": {},
   "outputs": [],
   "source": [
    "datas={\"Name\":[\"ANjal\",\"Aju\",\"aju\"],\n",
    "       \"Age\":[20,21,23]}\n",
    "datas"
   ]
  },
  {
   "cell_type": "code",
   "execution_count": null,
   "id": "711cc2e3",
   "metadata": {},
   "outputs": [],
   "source": [
    "datas={\"Name\":[\"ANjal\",\"Aju\",\"aju\"],\n",
    "       \"Age\":[20,21,23]}\n",
    "\n",
    "df=pd.DataFrame(datas)\n",
    "df"
   ]
  },
  {
   "cell_type": "code",
   "execution_count": null,
   "id": "5abc8869",
   "metadata": {},
   "outputs": [],
   "source": [
    "datas={\"Name\":[\"ANjal\",\"Aju\",\"aju\"],\n",
    "       \"Age\":[20,21,23]}\n",
    "\n",
    "df=pd.Series(datas)\n",
    "df"
   ]
  },
  {
   "cell_type": "code",
   "execution_count": null,
   "id": "05eac144",
   "metadata": {},
   "outputs": [],
   "source": [
    "df=pd.read_csv(\"sample.csv\")\n",
    "df"
   ]
  },
  {
   "cell_type": "code",
   "execution_count": null,
   "id": "53eaf761",
   "metadata": {},
   "outputs": [],
   "source": [
    "df=pd.read_csv(\"sample.csv\")\n",
    "df.head(10)"
   ]
  },
  {
   "cell_type": "code",
   "execution_count": null,
   "id": "8d10bcfe",
   "metadata": {},
   "outputs": [],
   "source": [
    "df=pd.read_csv(\"sample.csv\")\n",
    "df.tail(10)"
   ]
  },
  {
   "cell_type": "code",
   "execution_count": null,
   "id": "0d4970e7",
   "metadata": {},
   "outputs": [],
   "source": [
    "df=pd.read_csv(\"sample.csv\")\n",
    "df.add_prefix(\"Car_\")"
   ]
  },
  {
   "cell_type": "code",
   "execution_count": null,
   "id": "4116c61f",
   "metadata": {},
   "outputs": [],
   "source": [
    "df=pd.read_csv(\"sample.csv\")\n",
    "df.add_suffix(\"_Car of the result\")"
   ]
  },
  {
   "cell_type": "code",
   "execution_count": null,
   "id": "774b1540",
   "metadata": {},
   "outputs": [],
   "source": [
    "df=pd.read_csv(\"sample.csv\")\n",
    "df.info()"
   ]
  },
  {
   "cell_type": "code",
   "execution_count": null,
   "id": "fc8419e1",
   "metadata": {},
   "outputs": [],
   "source": [
    "df=pd.read_csv(\"sample.csv\")\n",
    "df.dropna()\n",
    "# df"
   ]
  },
  {
   "cell_type": "code",
   "execution_count": null,
   "id": "3587ba56",
   "metadata": {},
   "outputs": [],
   "source": [
    "df=pd.read_csv(\"sample.csv\")\n",
    "df.dropna(inplace=True)\n",
    "df"
   ]
  },
  {
   "cell_type": "code",
   "execution_count": null,
   "id": "0e1f53f9",
   "metadata": {},
   "outputs": [],
   "source": [
    "df=pd.read_csv(\"sample.csv\")\n",
    "df.dropna(subset=[\"Name\"])\n",
    "# df\n",
    "\n"
   ]
  },
  {
   "cell_type": "code",
   "execution_count": null,
   "id": "a3232f53",
   "metadata": {},
   "outputs": [],
   "source": [
    "df=pd.read_csv(\"sample.csv\")\n",
    "df.fillna(\"Zero\",inplace=True)\n",
    "df"
   ]
  },
  {
   "cell_type": "code",
   "execution_count": null,
   "id": "7f130836",
   "metadata": {},
   "outputs": [],
   "source": [
    "df=pd.read_csv(\"sample.csv\")\n",
    "df[\"Name\"].fillna(\"TATA\",inplace=True)\n",
    "df\n"
   ]
  },
  {
   "cell_type": "code",
   "execution_count": null,
   "id": "34e161c2",
   "metadata": {},
   "outputs": [],
   "source": [
    "df=pd.read_csv(\"sample.csv\")\n",
    "df.columns"
   ]
  },
  {
   "cell_type": "code",
   "execution_count": null,
   "id": "3e36728d",
   "metadata": {},
   "outputs": [],
   "source": [
    "df=pd.read_csv(\"sample.csv\")\n",
    "df.axes"
   ]
  },
  {
   "cell_type": "code",
   "execution_count": null,
   "id": "171ca8ed",
   "metadata": {},
   "outputs": [],
   "source": [
    "df=pd.read_csv(\"sample.csv\")\n",
    "df.shape[1]"
   ]
  },
  {
   "cell_type": "code",
   "execution_count": null,
   "id": "e99e85b6",
   "metadata": {},
   "outputs": [],
   "source": [
    "df=pd.read_csv(\"sample.csv\")\n",
    "df.describe()"
   ]
  },
  {
   "cell_type": "code",
   "execution_count": null,
   "id": "59438202",
   "metadata": {},
   "outputs": [],
   "source": [
    "df=pd.read_csv(\"sample.csv\")\n",
    "df.values"
   ]
  },
  {
   "cell_type": "code",
   "execution_count": null,
   "id": "23e3839e",
   "metadata": {},
   "outputs": [],
   "source": [
    "df=pd.read_csv(\"sample.csv\")\n",
    "df.iloc[4]"
   ]
  },
  {
   "cell_type": "code",
   "execution_count": null,
   "id": "3f53ca28",
   "metadata": {},
   "outputs": [],
   "source": [
    "df=pd.read_csv(\"sample.csv\")\n",
    "df.take([4])"
   ]
  },
  {
   "cell_type": "code",
   "execution_count": null,
   "id": "a67eae49",
   "metadata": {},
   "outputs": [],
   "source": [
    "df=pd.read_csv(\"sample.csv\")\n",
    "df.drop_duplicates()\n"
   ]
  },
  {
   "cell_type": "code",
   "execution_count": null,
   "id": "21a81aa4",
   "metadata": {},
   "outputs": [],
   "source": [
    "df=pd.read_csv(\"sample.csv\")\n",
    "df.duplicated()\n"
   ]
  },
  {
   "cell_type": "code",
   "execution_count": null,
   "id": "50bd4cb0",
   "metadata": {},
   "outputs": [],
   "source": [
    "df=pd.read_csv(\"sample.csv\")\n",
    "df.replace(\"BMW\",\"Suzuki\")\n"
   ]
  },
  {
   "cell_type": "markdown",
   "id": "aba62cfc",
   "metadata": {},
   "source": [
    "df=pd.read_csv(\"Inventory_v2.csv\")\n",
    "# df.filter(items=[\"inventoryType\",\"quantity\"])\n",
    "df.get([\"quantity\",\"inventoryType\"])\n",
    "# df\n",
    "\n",
    "\n",
    "# df=pd.read_csv(\"sample.csv\")\n",
    "data={\"Name\":[\"Anjal\",\"Aju\",\"Aj\"],\"Age\":[21,22,23]}\n",
    "df=pd.DataFrame(data)\n",
    "df.at[1,\"Age\"]\n"
   ]
  },
  {
   "cell_type": "code",
   "execution_count": null,
   "id": "c76759fb",
   "metadata": {},
   "outputs": [],
   "source": []
  }
 ],
 "metadata": {
  "kernelspec": {
   "display_name": "Python 3",
   "language": "python",
   "name": "python3"
  },
  "language_info": {
   "codemirror_mode": {
    "name": "ipython",
    "version": 3
   },
   "file_extension": ".py",
   "mimetype": "text/x-python",
   "name": "python",
   "nbconvert_exporter": "python",
   "pygments_lexer": "ipython3",
   "version": "3.13.7"
  }
 },
 "nbformat": 4,
 "nbformat_minor": 5
}
