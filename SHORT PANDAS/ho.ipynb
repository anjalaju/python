{
 "cells": [
  {
   "cell_type": "code",
   "execution_count": null,
   "id": "341ed37b",
   "metadata": {},
   "outputs": [],
   "source": [
    "import pandas as pd"
   ]
  },
  {
   "cell_type": "code",
   "execution_count": null,
   "id": "62b5091a",
   "metadata": {},
   "outputs": [],
   "source": [
    "datas={\"Name\":[\"ANjal\",\"Aju\",\"aju\"],\n",
    "       \"Age\":[20,21,23]}\n",
    "datas"
   ]
  },
  {
   "cell_type": "code",
   "execution_count": null,
   "id": "711cc2e3",
   "metadata": {},
   "outputs": [],
   "source": [
    "datas={\"Name\":[\"ANjal\",\"Aju\",\"aju\"],\n",
    "       \"Age\":[20,21,23]}\n",
    "\n",
    "df=pd.DataFrame(datas)\n",
    "df"
   ]
  },
  {
   "cell_type": "code",
   "execution_count": null,
   "id": "5abc8869",
   "metadata": {},
   "outputs": [],
   "source": [
    "datas={\"Name\":[\"ANjal\",\"Aju\",\"aju\"],\n",
    "       \"Age\":[20,21,23]}\n",
    "\n",
    "df=pd.Series(datas)\n",
    "df"
   ]
  },
  {
   "cell_type": "code",
   "execution_count": null,
   "id": "05eac144",
   "metadata": {},
   "outputs": [],
   "source": [
    "df=pd.read_csv(\"sample.csv\")\n",
    "df"
   ]
  },
  {
   "cell_type": "code",
   "execution_count": null,
   "id": "53eaf761",
   "metadata": {},
   "outputs": [],
   "source": [
    "df=pd.read_csv(\"sample.csv\")\n",
    "df.head(10)"
   ]
  },
  {
   "cell_type": "code",
   "execution_count": null,
   "id": "8d10bcfe",
   "metadata": {},
   "outputs": [],
   "source": [
    "df=pd.read_csv(\"sample.csv\")\n",
    "df.tail(10)"
   ]
  },
  {
   "cell_type": "code",
   "execution_count": null,
   "id": "0d4970e7",
   "metadata": {},
   "outputs": [],
   "source": [
    "df=pd.read_csv(\"sample.csv\")\n",
    "df.add_prefix(\"Car_\")"
   ]
  },
  {
   "cell_type": "code",
   "execution_count": null,
   "id": "4116c61f",
   "metadata": {},
   "outputs": [],
   "source": [
    "df=pd.read_csv(\"sample.csv\")\n",
    "df.add_suffix(\"_Car of the result\")"
   ]
  },
  {
   "cell_type": "code",
   "execution_count": null,
   "id": "774b1540",
   "metadata": {},
   "outputs": [],
   "source": [
    "df=pd.read_csv(\"sample.csv\")\n",
    "df.info()"
   ]
  },
  {
   "cell_type": "code",
   "execution_count": null,
   "id": "fc8419e1",
   "metadata": {},
   "outputs": [],
   "source": [
    "df=pd.read_csv(\"sample.csv\")\n",
    "df.dropna()\n",
    "# df"
   ]
  },
  {
   "cell_type": "code",
   "execution_count": null,
   "id": "3587ba56",
   "metadata": {},
   "outputs": [],
   "source": [
    "df=pd.read_csv(\"sample.csv\")\n",
    "df.dropna(inplace=True)\n",
    "df"
   ]
  },
  {
   "cell_type": "code",
   "execution_count": null,
   "id": "0e1f53f9",
   "metadata": {},
   "outputs": [],
   "source": [
    "df=pd.read_csv(\"sample.csv\")\n",
    "df.dropna(subset=[\"Name\"])\n",
    "# df\n",
    "\n"
   ]
  },
  {
   "cell_type": "code",
   "execution_count": null,
   "id": "a3232f53",
   "metadata": {},
   "outputs": [],
   "source": [
    "df=pd.read_csv(\"sample.csv\")\n",
    "df.fillna(\"Zero\",inplace=True)\n",
    "df"
   ]
  },
  {
   "cell_type": "code",
   "execution_count": null,
   "id": "7f130836",
   "metadata": {},
   "outputs": [],
   "source": [
    "df=pd.read_csv(\"sample.csv\")\n",
    "df[\"Name\"].fillna(\"TATA\",inplace=True)\n",
    "df\n"
   ]
  },
  {
   "cell_type": "code",
   "execution_count": null,
   "id": "34e161c2",
   "metadata": {},
   "outputs": [],
   "source": [
    "df=pd.read_csv(\"sample.csv\")\n",
    "df.columns"
   ]
  },
  {
   "cell_type": "code",
   "execution_count": null,
   "id": "3e36728d",
   "metadata": {},
   "outputs": [],
   "source": [
    "df=pd.read_csv(\"sample.csv\")\n",
    "df.axes"
   ]
  },
  {
   "cell_type": "code",
   "execution_count": null,
   "id": "171ca8ed",
   "metadata": {},
   "outputs": [],
   "source": [
    "df=pd.read_csv(\"sample.csv\")\n",
    "df.shape[1]"
   ]
  },
  {
   "cell_type": "code",
   "execution_count": null,
   "id": "e99e85b6",
   "metadata": {},
   "outputs": [],
   "source": [
    "df=pd.read_csv(\"sample.csv\")\n",
    "df.describe()"
   ]
  },
  {
   "cell_type": "code",
   "execution_count": null,
   "id": "59438202",
   "metadata": {},
   "outputs": [],
   "source": [
    "df=pd.read_csv(\"sample.csv\")\n",
    "df.values"
   ]
  },
  {
   "cell_type": "code",
   "execution_count": null,
   "id": "23e3839e",
   "metadata": {},
   "outputs": [],
   "source": [
    "df=pd.read_csv(\"sample.csv\")\n",
    "df.iloc[4]"
   ]
  },
  {
   "cell_type": "code",
   "execution_count": null,
   "id": "3f53ca28",
   "metadata": {},
   "outputs": [],
   "source": [
    "df=pd.read_csv(\"sample.csv\")\n",
    "df.take([4])"
   ]
  },
  {
   "cell_type": "code",
   "execution_count": null,
   "id": "a67eae49",
   "metadata": {},
   "outputs": [],
   "source": [
    "df=pd.read_csv(\"sample.csv\")\n",
    "df.drop_duplicates()\n"
   ]
  },
  {
   "cell_type": "code",
   "execution_count": null,
   "id": "21a81aa4",
   "metadata": {},
   "outputs": [],
   "source": [
    "df=pd.read_csv(\"sample.csv\")\n",
    "df.duplicated()\n"
   ]
  },
  {
   "cell_type": "code",
   "execution_count": null,
   "id": "50bd4cb0",
   "metadata": {},
   "outputs": [],
   "source": [
    "df=pd.read_csv(\"sample.csv\")\n",
    "df.replace(\"BMW\",\"Suzuki\")\n"
   ]
  },
  {
   "cell_type": "code",
   "execution_count": null,
   "id": "4586bf15",
   "metadata": {},
   "outputs": [],
   "source": [
    "import pandas as pd\n",
    "df=pd.read_csv(\"sample.csv\")\n",
    "df.get([\"Name\",\"number\"])\n"
   ]
  },
  {
   "cell_type": "code",
   "execution_count": null,
   "id": "0d9b8c7a",
   "metadata": {},
   "outputs": [],
   "source": [
    "import pandas as pd\n",
    "df=pd.read_csv(\"sample.csv\")\n",
    "df.filter(items=[\"Brand\",\"Model\"])\n"
   ]
  },
  {
   "cell_type": "code",
   "execution_count": null,
   "id": "90dad6ae",
   "metadata": {},
   "outputs": [],
   "source": [
    "datas={\"Name\":[\"ANjal\",\"Aju\",\"aju\"],\n",
    "       \"Age\":[20,21,23]}\n",
    "df=pd.DataFrame(datas)\n",
    "\n",
    "newname=df.at[1,\"Name\"]\n",
    "print(\"The name is:\",newname)"
   ]
  },
  {
   "cell_type": "code",
   "execution_count": null,
   "id": "555f7821",
   "metadata": {},
   "outputs": [],
   "source": [
    "s1=pd.Series([1,2,3])\n",
    "s2=pd.Series([4,5,6])\n",
    "result=s1.dot(s2)\n",
    "result\n"
   ]
  },
  {
   "cell_type": "code",
   "execution_count": null,
   "id": "fdc2bbc5",
   "metadata": {},
   "outputs": [],
   "source": [
    "data=[[10,18,11],[13,15,8],[9,20,3]]\n",
    "df=pd.DataFrame(data)\n",
    "print(df)\n",
    "df.diff()\n",
    "\n"
   ]
  },
  {
   "cell_type": "code",
   "execution_count": null,
   "id": "baa0bdc3",
   "metadata": {},
   "outputs": [],
   "source": [
    "df=pd.read_csv(\"sample.csv\")\n",
    "df.drop_duplicates(inplace=True)\n",
    "df.index\n"
   ]
  },
  {
   "cell_type": "code",
   "execution_count": null,
   "id": "0f9d4f06",
   "metadata": {},
   "outputs": [],
   "source": [
    "df=pd.read_csv(\"sample.csv\")\n",
    "for x,y in df.iterrows():\n",
    "    # print(x)\n",
    "    print(y)\n"
   ]
  },
  {
   "cell_type": "code",
   "execution_count": null,
   "id": "1fd8e620",
   "metadata": {},
   "outputs": [],
   "source": [
    "df=pd.read_csv(\"sample.csv\")\n",
    "df.isnull()"
   ]
  },
  {
   "cell_type": "code",
   "execution_count": null,
   "id": "4676e4b6",
   "metadata": {},
   "outputs": [],
   "source": [
    "df=pd.read_csv(\"sample.csv\")\n",
    "df.count()"
   ]
  },
  {
   "cell_type": "code",
   "execution_count": null,
   "id": "ff2493da",
   "metadata": {},
   "outputs": [],
   "source": [
    "df=pd.read_csv(\"sample.csv\")\n",
    "df.drop_duplicates(inplace=True)\n",
    "df.index\n"
   ]
  },
  {
   "cell_type": "code",
   "execution_count": null,
   "id": "33f88ae3",
   "metadata": {},
   "outputs": [],
   "source": [
    "df=pd.read_csv(\"sample.csv\")\n",
    "for x,y in df.items():\n",
    "    print(x)"
   ]
  },
  {
   "cell_type": "code",
   "execution_count": null,
   "id": "97fcbc4f",
   "metadata": {},
   "outputs": [],
   "source": [
    "df=pd.read_csv(\"sample.csv\")\n",
    "for x,y in df.items():\n",
    "    print(y)"
   ]
  },
  {
   "cell_type": "code",
   "execution_count": null,
   "id": "22019e64",
   "metadata": {},
   "outputs": [],
   "source": [
    "df=pd.read_csv(\"sample.csv\")\n",
    "for x,y in df.iterrows():\n",
    "    print(x)"
   ]
  },
  {
   "cell_type": "code",
   "execution_count": null,
   "id": "e07bc054",
   "metadata": {},
   "outputs": [],
   "source": [
    "df=pd.read_csv(\"sample.csv\")\n",
    "for x,y in df.iterrows():\n",
    "    print(y)"
   ]
  },
  {
   "cell_type": "code",
   "execution_count": null,
   "id": "7939ddf8",
   "metadata": {},
   "outputs": [],
   "source": [
    "df=pd.read_csv(\"sample.csv\")\n",
    "df.isnull()"
   ]
  },
  {
   "cell_type": "code",
   "execution_count": null,
   "id": "a3f532a9",
   "metadata": {},
   "outputs": [],
   "source": [
    "df=pd.read_csv(\"sample.csv\")\n",
    "df.count()"
   ]
  },
  {
   "cell_type": "code",
   "execution_count": null,
   "id": "5ce8c407",
   "metadata": {},
   "outputs": [],
   "source": [
    "df=pd.read_csv(\"sample.csv\")\n",
    "df.empty"
   ]
  },
  {
   "cell_type": "markdown",
   "id": "9057a9e9",
   "metadata": {},
   "source": [
    "https://github.com/akashnandhu?tab=repositories"
   ]
  },
  {
   "cell_type": "code",
   "execution_count": null,
   "id": "795c8920",
   "metadata": {},
   "outputs": [],
   "source": [
    "# http://localhost:8080/phpmyadmin/\n",
    "# https://github.com/akashnandhu?tab=repositories"
   ]
  },
  {
   "cell_type": "code",
   "execution_count": null,
   "id": "85927083",
   "metadata": {},
   "outputs": [],
   "source": [
    "import pandas as pd\n",
    "\n",
    "df=pd.read_csv(\"sample.csv\")\n",
    "df.isna()"
   ]
  },
  {
   "cell_type": "code",
   "execution_count": null,
   "id": "9286b362",
   "metadata": {},
   "outputs": [],
   "source": [
    "import pandas as pd\n",
    "df=pd.read_csv(\"sample.csv\")\n",
    "df.sample(2)"
   ]
  },
  {
   "cell_type": "markdown",
   "id": "39c4f047",
   "metadata": {},
   "source": [
    "series\n",
    "dataframe\n",
    "read csv\n",
    "add pefix\n",
    "add sufix\n",
    "info\n",
    "dropna\n",
    "fillna\n",
    "loc   take iloc\n",
    "filter    get\n",
    "at\n",
    "eval \n",
    "pop\n",
    "column\n",
    "axes\n",
    "describe\n",
    "values\n",
    "shape\n",
    "apply pipe transform\n",
    "where mask \n",
    "insert assign\n",
    "count\n",
    "index\n",
    "concat merge join\n",
    "duplicate\n",
    "drop duplicate\n",
    "items \n",
    "iterrows\n",
    "eq  isin\n",
    "isnull  notnull notna\n",
    "empty\n",
    "replace"
   ]
  },
  {
   "cell_type": "code",
   "execution_count": 82,
   "id": "a015dafd",
   "metadata": {},
   "outputs": [
    {
     "data": {
      "text/html": [
       "<div>\n",
       "<style scoped>\n",
       "    .dataframe tbody tr th:only-of-type {\n",
       "        vertical-align: middle;\n",
       "    }\n",
       "\n",
       "    .dataframe tbody tr th {\n",
       "        vertical-align: top;\n",
       "    }\n",
       "\n",
       "    .dataframe thead th {\n",
       "        text-align: right;\n",
       "    }\n",
       "</style>\n",
       "<table border=\"1\" class=\"dataframe\">\n",
       "  <thead>\n",
       "    <tr style=\"text-align: right;\">\n",
       "      <th></th>\n",
       "      <th>product.partNumber</th>\n",
       "      <th>location.locationIdentifier</th>\n",
       "      <th>quantity</th>\n",
       "      <th>quantityUnits</th>\n",
       "      <th>value</th>\n",
       "      <th>valueCurrency</th>\n",
       "      <th>reservationOrders</th>\n",
       "      <th>daysOfSupply</th>\n",
       "      <th>shelfLife</th>\n",
       "      <th>reorderLevel</th>\n",
       "      <th>...</th>\n",
       "      <th>quantityUpperThreshold</th>\n",
       "      <th>quantityLowerThreshold</th>\n",
       "      <th>daysOfSupplyUpperThreshold</th>\n",
       "      <th>daysOfSupplyLowerThreshold</th>\n",
       "      <th>expiringThreshold</th>\n",
       "      <th>plannerCode</th>\n",
       "      <th>velocityCode</th>\n",
       "      <th>inventoryParentType</th>\n",
       "      <th>class</th>\n",
       "      <th>segment</th>\n",
       "    </tr>\n",
       "  </thead>\n",
       "  <tbody>\n",
       "    <tr>\n",
       "      <th>0</th>\n",
       "      <td>PS-SL-A287</td>\n",
       "      <td>LT-1</td>\n",
       "      <td>25</td>\n",
       "      <td>EA</td>\n",
       "      <td>31250.0</td>\n",
       "      <td>USD</td>\n",
       "      <td>2</td>\n",
       "      <td>19.0</td>\n",
       "      <td>365.0</td>\n",
       "      <td>50</td>\n",
       "      <td>...</td>\n",
       "      <td>100</td>\n",
       "      <td>10</td>\n",
       "      <td>30</td>\n",
       "      <td>10</td>\n",
       "      <td>NaN</td>\n",
       "      <td>Street Lighting</td>\n",
       "      <td>B</td>\n",
       "      <td>ONHAND</td>\n",
       "      <td>NEW</td>\n",
       "      <td>INDUSTRIAL</td>\n",
       "    </tr>\n",
       "    <tr>\n",
       "      <th>1</th>\n",
       "      <td>PS-SL-A288</td>\n",
       "      <td>LT-1</td>\n",
       "      <td>20</td>\n",
       "      <td>EA</td>\n",
       "      <td>25000.0</td>\n",
       "      <td>USD</td>\n",
       "      <td>2</td>\n",
       "      <td>35.0</td>\n",
       "      <td>365.0</td>\n",
       "      <td>50</td>\n",
       "      <td>...</td>\n",
       "      <td>100</td>\n",
       "      <td>10</td>\n",
       "      <td>30</td>\n",
       "      <td>10</td>\n",
       "      <td>NaN</td>\n",
       "      <td>Street Lighting</td>\n",
       "      <td>B</td>\n",
       "      <td>ONHAND</td>\n",
       "      <td>NEW</td>\n",
       "      <td>INDUSTRIAL</td>\n",
       "    </tr>\n",
       "    <tr>\n",
       "      <th>2</th>\n",
       "      <td>PS-SL-H309</td>\n",
       "      <td>LT-1</td>\n",
       "      <td>3</td>\n",
       "      <td>EA</td>\n",
       "      <td>3750.0</td>\n",
       "      <td>USD</td>\n",
       "      <td>2</td>\n",
       "      <td>14.0</td>\n",
       "      <td>365.0</td>\n",
       "      <td>50</td>\n",
       "      <td>...</td>\n",
       "      <td>100</td>\n",
       "      <td>10</td>\n",
       "      <td>30</td>\n",
       "      <td>10</td>\n",
       "      <td>NaN</td>\n",
       "      <td>Street Lighting</td>\n",
       "      <td>B</td>\n",
       "      <td>ONHAND</td>\n",
       "      <td>NEW</td>\n",
       "      <td>INDUSTRIAL</td>\n",
       "    </tr>\n",
       "    <tr>\n",
       "      <th>3</th>\n",
       "      <td>PS-SL-H310</td>\n",
       "      <td>LT-1</td>\n",
       "      <td>35</td>\n",
       "      <td>EA</td>\n",
       "      <td>43750.0</td>\n",
       "      <td>USD</td>\n",
       "      <td>2</td>\n",
       "      <td>16.0</td>\n",
       "      <td>365.0</td>\n",
       "      <td>50</td>\n",
       "      <td>...</td>\n",
       "      <td>100</td>\n",
       "      <td>10</td>\n",
       "      <td>30</td>\n",
       "      <td>10</td>\n",
       "      <td>NaN</td>\n",
       "      <td>Street Lighting</td>\n",
       "      <td>A</td>\n",
       "      <td>ONHAND</td>\n",
       "      <td>NEW</td>\n",
       "      <td>INDUSTRIAL</td>\n",
       "    </tr>\n",
       "    <tr>\n",
       "      <th>4</th>\n",
       "      <td>PS-SL-F342</td>\n",
       "      <td>LT-1</td>\n",
       "      <td>43</td>\n",
       "      <td>EA</td>\n",
       "      <td>53750.0</td>\n",
       "      <td>USD</td>\n",
       "      <td>2</td>\n",
       "      <td>42.0</td>\n",
       "      <td>365.0</td>\n",
       "      <td>50</td>\n",
       "      <td>...</td>\n",
       "      <td>100</td>\n",
       "      <td>10</td>\n",
       "      <td>30</td>\n",
       "      <td>10</td>\n",
       "      <td>NaN</td>\n",
       "      <td>Street Lighting</td>\n",
       "      <td>A</td>\n",
       "      <td>ONHAND</td>\n",
       "      <td>NEW</td>\n",
       "      <td>INDUSTRIAL</td>\n",
       "    </tr>\n",
       "    <tr>\n",
       "      <th>...</th>\n",
       "      <td>...</td>\n",
       "      <td>...</td>\n",
       "      <td>...</td>\n",
       "      <td>...</td>\n",
       "      <td>...</td>\n",
       "      <td>...</td>\n",
       "      <td>...</td>\n",
       "      <td>...</td>\n",
       "      <td>...</td>\n",
       "      <td>...</td>\n",
       "      <td>...</td>\n",
       "      <td>...</td>\n",
       "      <td>...</td>\n",
       "      <td>...</td>\n",
       "      <td>...</td>\n",
       "      <td>...</td>\n",
       "      <td>...</td>\n",
       "      <td>...</td>\n",
       "      <td>...</td>\n",
       "      <td>...</td>\n",
       "      <td>...</td>\n",
       "    </tr>\n",
       "    <tr>\n",
       "      <th>153</th>\n",
       "      <td>9664147</td>\n",
       "      <td>LT-2</td>\n",
       "      <td>27</td>\n",
       "      <td>EA</td>\n",
       "      <td>26352.0</td>\n",
       "      <td>USD</td>\n",
       "      <td>0</td>\n",
       "      <td>56.0</td>\n",
       "      <td>365.0</td>\n",
       "      <td>200</td>\n",
       "      <td>...</td>\n",
       "      <td>400</td>\n",
       "      <td>100</td>\n",
       "      <td>30</td>\n",
       "      <td>10</td>\n",
       "      <td>NaN</td>\n",
       "      <td>Secondary Chassis</td>\n",
       "      <td>A</td>\n",
       "      <td>ONHAND</td>\n",
       "      <td>NEW</td>\n",
       "      <td>NaN</td>\n",
       "    </tr>\n",
       "    <tr>\n",
       "      <th>154</th>\n",
       "      <td>9664147</td>\n",
       "      <td>LT-2</td>\n",
       "      <td>27</td>\n",
       "      <td>EA</td>\n",
       "      <td>26352.0</td>\n",
       "      <td>USD</td>\n",
       "      <td>0</td>\n",
       "      <td>56.0</td>\n",
       "      <td>365.0</td>\n",
       "      <td>200</td>\n",
       "      <td>...</td>\n",
       "      <td>400</td>\n",
       "      <td>100</td>\n",
       "      <td>30</td>\n",
       "      <td>10</td>\n",
       "      <td>NaN</td>\n",
       "      <td>Secondary Chassis</td>\n",
       "      <td>A</td>\n",
       "      <td>ONHAND</td>\n",
       "      <td>NEW</td>\n",
       "      <td>NaN</td>\n",
       "    </tr>\n",
       "    <tr>\n",
       "      <th>155</th>\n",
       "      <td>9664147</td>\n",
       "      <td>LT-2</td>\n",
       "      <td>27</td>\n",
       "      <td>EA</td>\n",
       "      <td>26352.0</td>\n",
       "      <td>USD</td>\n",
       "      <td>0</td>\n",
       "      <td>56.0</td>\n",
       "      <td>365.0</td>\n",
       "      <td>200</td>\n",
       "      <td>...</td>\n",
       "      <td>400</td>\n",
       "      <td>100</td>\n",
       "      <td>30</td>\n",
       "      <td>10</td>\n",
       "      <td>NaN</td>\n",
       "      <td>Secondary Chassis</td>\n",
       "      <td>A</td>\n",
       "      <td>ONHAND</td>\n",
       "      <td>NEW</td>\n",
       "      <td>NaN</td>\n",
       "    </tr>\n",
       "    <tr>\n",
       "      <th>156</th>\n",
       "      <td>9664147</td>\n",
       "      <td>LT-2</td>\n",
       "      <td>27</td>\n",
       "      <td>EA</td>\n",
       "      <td>26352.0</td>\n",
       "      <td>USD</td>\n",
       "      <td>0</td>\n",
       "      <td>56.0</td>\n",
       "      <td>365.0</td>\n",
       "      <td>200</td>\n",
       "      <td>...</td>\n",
       "      <td>400</td>\n",
       "      <td>100</td>\n",
       "      <td>30</td>\n",
       "      <td>10</td>\n",
       "      <td>NaN</td>\n",
       "      <td>Secondary Chassis</td>\n",
       "      <td>A</td>\n",
       "      <td>ONHAND</td>\n",
       "      <td>NEW</td>\n",
       "      <td>NaN</td>\n",
       "    </tr>\n",
       "    <tr>\n",
       "      <th>157</th>\n",
       "      <td>9664147</td>\n",
       "      <td>LT-2</td>\n",
       "      <td>27</td>\n",
       "      <td>EA</td>\n",
       "      <td>26352.0</td>\n",
       "      <td>USD</td>\n",
       "      <td>0</td>\n",
       "      <td>56.0</td>\n",
       "      <td>365.0</td>\n",
       "      <td>200</td>\n",
       "      <td>...</td>\n",
       "      <td>400</td>\n",
       "      <td>100</td>\n",
       "      <td>30</td>\n",
       "      <td>10</td>\n",
       "      <td>NaN</td>\n",
       "      <td>Secondary Chassis</td>\n",
       "      <td>A</td>\n",
       "      <td>ONHAND</td>\n",
       "      <td>NEW</td>\n",
       "      <td>NaN</td>\n",
       "    </tr>\n",
       "  </tbody>\n",
       "</table>\n",
       "<p>158 rows × 21 columns</p>\n",
       "</div>"
      ],
      "text/plain": [
       "    product.partNumber location.locationIdentifier  quantity quantityUnits  \\\n",
       "0           PS-SL-A287                        LT-1        25            EA   \n",
       "1           PS-SL-A288                        LT-1        20            EA   \n",
       "2           PS-SL-H309                        LT-1         3            EA   \n",
       "3           PS-SL-H310                        LT-1        35            EA   \n",
       "4           PS-SL-F342                        LT-1        43            EA   \n",
       "..                 ...                         ...       ...           ...   \n",
       "153            9664147                        LT-2        27            EA   \n",
       "154            9664147                        LT-2        27            EA   \n",
       "155            9664147                        LT-2        27            EA   \n",
       "156            9664147                        LT-2        27            EA   \n",
       "157            9664147                        LT-2        27            EA   \n",
       "\n",
       "       value valueCurrency  reservationOrders  daysOfSupply  shelfLife  \\\n",
       "0    31250.0           USD                  2          19.0      365.0   \n",
       "1    25000.0           USD                  2          35.0      365.0   \n",
       "2     3750.0           USD                  2          14.0      365.0   \n",
       "3    43750.0           USD                  2          16.0      365.0   \n",
       "4    53750.0           USD                  2          42.0      365.0   \n",
       "..       ...           ...                ...           ...        ...   \n",
       "153  26352.0           USD                  0          56.0      365.0   \n",
       "154  26352.0           USD                  0          56.0      365.0   \n",
       "155  26352.0           USD                  0          56.0      365.0   \n",
       "156  26352.0           USD                  0          56.0      365.0   \n",
       "157  26352.0           USD                  0          56.0      365.0   \n",
       "\n",
       "     reorderLevel  ...  quantityUpperThreshold  quantityLowerThreshold  \\\n",
       "0              50  ...                     100                      10   \n",
       "1              50  ...                     100                      10   \n",
       "2              50  ...                     100                      10   \n",
       "3              50  ...                     100                      10   \n",
       "4              50  ...                     100                      10   \n",
       "..            ...  ...                     ...                     ...   \n",
       "153           200  ...                     400                     100   \n",
       "154           200  ...                     400                     100   \n",
       "155           200  ...                     400                     100   \n",
       "156           200  ...                     400                     100   \n",
       "157           200  ...                     400                     100   \n",
       "\n",
       "     daysOfSupplyUpperThreshold  daysOfSupplyLowerThreshold  \\\n",
       "0                            30                          10   \n",
       "1                            30                          10   \n",
       "2                            30                          10   \n",
       "3                            30                          10   \n",
       "4                            30                          10   \n",
       "..                          ...                         ...   \n",
       "153                          30                          10   \n",
       "154                          30                          10   \n",
       "155                          30                          10   \n",
       "156                          30                          10   \n",
       "157                          30                          10   \n",
       "\n",
       "     expiringThreshold        plannerCode velocityCode inventoryParentType  \\\n",
       "0                  NaN    Street Lighting            B              ONHAND   \n",
       "1                  NaN    Street Lighting            B              ONHAND   \n",
       "2                  NaN    Street Lighting            B              ONHAND   \n",
       "3                  NaN    Street Lighting            A              ONHAND   \n",
       "4                  NaN    Street Lighting            A              ONHAND   \n",
       "..                 ...                ...          ...                 ...   \n",
       "153                NaN  Secondary Chassis           A               ONHAND   \n",
       "154                NaN  Secondary Chassis           A               ONHAND   \n",
       "155                NaN  Secondary Chassis           A               ONHAND   \n",
       "156                NaN  Secondary Chassis           A               ONHAND   \n",
       "157                NaN  Secondary Chassis           A               ONHAND   \n",
       "\n",
       "    class     segment  \n",
       "0     NEW  INDUSTRIAL  \n",
       "1     NEW  INDUSTRIAL  \n",
       "2     NEW  INDUSTRIAL  \n",
       "3     NEW  INDUSTRIAL  \n",
       "4     NEW  INDUSTRIAL  \n",
       "..    ...         ...  \n",
       "153   NEW         NaN  \n",
       "154   NEW         NaN  \n",
       "155   NEW         NaN  \n",
       "156   NEW         NaN  \n",
       "157   NEW         NaN  \n",
       "\n",
       "[158 rows x 21 columns]"
      ]
     },
     "execution_count": 82,
     "metadata": {},
     "output_type": "execute_result"
    }
   ],
   "source": [
    "import pandas as pd \n",
    "df=pd.read_csv(\"anjal_inventory.csv\")\n",
    "# df.eval(\"Anjal = daysOfSupplyLowerThreshold + daysOfSupplyUpperThreshold\", inplace=True)\n",
    "\n",
    "\n",
    "df.pop(\"inventoryType\")\n",
    "df\n"
   ]
  }
 ],
 "metadata": {
  "kernelspec": {
   "display_name": "Python 3",
   "language": "python",
   "name": "python3"
  },
  "language_info": {
   "codemirror_mode": {
    "name": "ipython",
    "version": 3
   },
   "file_extension": ".py",
   "mimetype": "text/x-python",
   "name": "python",
   "nbconvert_exporter": "python",
   "pygments_lexer": "ipython3",
   "version": "3.13.7"
  }
 },
 "nbformat": 4,
 "nbformat_minor": 5
}
