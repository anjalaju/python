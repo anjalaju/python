{
 "cells": [
  {
   "cell_type": "code",
   "execution_count": null,
   "id": "a73b2e42",
   "metadata": {},
   "outputs": [],
   "source": [
    "import pandas as pd\n",
    "import matplotlib.pyplot as plt\n",
    "languages=['Java','Python','Php','JavaScript','C#','C++']\n",
    "popularity=[22.2,17.6,8.8,8,7.7,6.7]\n",
    "plt.bar(languages,popularity,color=\"b\",zorder=2)\n",
    "plt.title(\"Popularity of Programming Languages\")\n",
    "plt.xlabel(\"Languages\")\n",
    "plt.ylabel(\"popularity\")\n",
    "plt.grid(linewidth=1,linestyle=\"-.\",color=\"r\",zorder=1)\n",
    "      #minor\n",
    "plt.grid(which=\"minor\",axis=\"both\",linestyle=\"--\",linewidth=1,color=\"k\",alpha=0.4,)\n",
    "plt.minorticks_on()\n",
    "plt.show()"
   ]
  },
  {
   "cell_type": "code",
   "execution_count": null,
   "id": "6298b2cf",
   "metadata": {},
   "outputs": [],
   "source": [
    "import pandas as pd\n",
    "import matplotlib.pyplot as plt\n",
    "languages=['Java','Python','Php','Js','C#','C++']\n",
    "popularity=[22.2,17.6,8.8,8,7.7,6.7]\n",
    "plt.barh(languages,popularity,color=\"g\",zorder=2)\n",
    "plt.title(\"Popularity of Programming Languages\")\n",
    "plt.xlabel(\"popularity\")\n",
    "plt.ylabel(\"languages\")\n",
    "plt.grid(which=\"minor\",linestyle=\"--\",color=\"k\",alpha=0.4)\n",
    "plt.grid(linewidth=1,linestyle=\"--\",color=\"r\",alpha=0.4,zorder=1)\n",
    "plt.minorticks_on()\n",
    "plt.show()"
   ]
  },
  {
   "cell_type": "code",
   "execution_count": null,
   "id": "79ad5cf5",
   "metadata": {},
   "outputs": [],
   "source": [
    "import pandas as pd\n",
    "import matplotlib.pyplot as plt\n",
    "languages=['Java','Python','Php','JavaScript','C#','C++']\n",
    "popularity=[22.2,17.6,8.8,8,7.7,6.7]\n",
    "plt.bar(languages,popularity,color=\"skyblue\",zorder=2)\n",
    "plt.title(\"Popularity of Programming Languages\")\n",
    "plt.xlabel(\"languages\")\n",
    "plt.ylabel(\"popularity\")\n",
    "plt.grid(which=\"minor\",linestyle=\"--\",color=\"k\",alpha=0.4)\n",
    "plt.grid(linewidth=1,linestyle=\"--\",color=\"r\",alpha=0.4,zorder=1)\n",
    "plt.minorticks_on()\n",
    "plt.show()"
   ]
  }
 ],
 "metadata": {
  "kernelspec": {
   "display_name": "Python 3",
   "language": "python",
   "name": "python3"
  },
  "language_info": {
   "codemirror_mode": {
    "name": "ipython",
    "version": 3
   },
   "file_extension": ".py",
   "mimetype": "text/x-python",
   "name": "python",
   "nbconvert_exporter": "python",
   "pygments_lexer": "ipython3",
   "version": "3.13.7"
  }
 },
 "nbformat": 4,
 "nbformat_minor": 5
}
