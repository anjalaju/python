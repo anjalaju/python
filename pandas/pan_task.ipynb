{
 "cells": [
  {
   "cell_type": "code",
   "execution_count": null,
   "id": "422173ef",
   "metadata": {},
   "outputs": [],
   "source": [
    "import pandas as pd"
   ]
  },
  {
   "cell_type": "code",
   "execution_count": null,
   "id": "9ba9f769",
   "metadata": {},
   "outputs": [],
   "source": [
    "# average ,total\n",
    "\n",
    "import pandas as pd\n",
    "df= pd.read_csv(\"student_marks.csv\")\n",
    "df[\"average_marks\"]=df.select_dtypes(include=[\"int\"]).mean(axis=1)\n",
    "# df\n",
    "df[\"Total marks\"]=df.select_dtypes(include=[\"int\"]).sum(axis=1)\n",
    "df"
   ]
  },
  {
   "cell_type": "code",
   "execution_count": null,
   "id": "2c6ccab3",
   "metadata": {},
   "outputs": [],
   "source": [
    "import pandas as pd\n",
    "df=pd.read_csv(\"student_marks.csv\")\n",
    "df[\"average_marks\"]=df.select_dtypes(include=[\"int\"]).mean(axis=1)\n",
    "df[\"Total marks\"]=df.select_dtypes(include=[\"int\"]).sum(axis=1)\n",
    "def student_grade(average):\n",
    "    if average>90:\n",
    "        return \"A+\"\n",
    "    elif average>80:\n",
    "        return \"A\"\n",
    "    elif average>70:\n",
    "        return \"B+\"\n",
    "    elif average>60:\n",
    "        return \"B\"\n",
    "    elif average>50:\n",
    "        return \"C+\"\n",
    "    elif average>40:\n",
    "        return \"C\"\n",
    "    elif average>30:\n",
    "        return \"D+\"\n",
    "    else:\n",
    "        pass\n",
    "\n",
    "df[\"grade\"]=df[\"average_marks\"].apply(student_grade)\n",
    "df"
   ]
  }
 ],
 "metadata": {
  "kernelspec": {
   "display_name": "Python 3",
   "language": "python",
   "name": "python3"
  },
  "language_info": {
   "codemirror_mode": {
    "name": "ipython",
    "version": 3
   },
   "file_extension": ".py",
   "mimetype": "text/x-python",
   "name": "python",
   "nbconvert_exporter": "python",
   "pygments_lexer": "ipython3",
   "version": "3.13.7"
  }
 },
 "nbformat": 4,
 "nbformat_minor": 5
}
