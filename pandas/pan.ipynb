{
 "cells": [
  {
   "cell_type": "code",
   "execution_count": 1,
   "id": "3fab39e2",
   "metadata": {},
   "outputs": [],
   "source": [
    "import pandas as pd"
   ]
  },
  {
   "cell_type": "code",
   "execution_count": 2,
   "id": "b13aa92c",
   "metadata": {},
   "outputs": [],
   "source": [
    "data={\"Name\":[\"Anjal\",\"Haris\",\"Akash\"],\"Age\":[25,22,20]}\n",
    "data"
   ]
  },
  {
   "cell_type": "code",
   "execution_count": 3,
   "id": "f5fa45cf",
   "metadata": {},
   "outputs": [],
   "source": [
    "data={\"Name\":[\"Anjal\",\"Haris\",\"Akash\"],\"Age\":[25,22,20]}\n",
    "df=pd.Series(data)\n",
    "df"
   ]
  },
  {
   "cell_type": "code",
   "execution_count": 4,
   "id": "b12fdb4d",
   "metadata": {},
   "outputs": [],
   "source": [
    "data={\"Name\":[\"Anjal\",\"Haris\",\"Akash\"],\"Age\":[25,22,20]}\n",
    "df=pd.DataFrame(data)\n",
    "df"
   ]
  },
  {
   "cell_type": "code",
   "execution_count": 5,
   "id": "345c7065",
   "metadata": {},
   "outputs": [],
   "source": [
    "df=pd.read_csv(\"sample.csv\")\n",
    "df"
   ]
  },
  {
   "cell_type": "code",
   "execution_count": 6,
   "id": "2cc610ad",
   "metadata": {},
   "outputs": [],
   "source": [
    "df=pd.read_csv(\"student_marks.csv\")\n",
    "df"
   ]
  },
  {
   "cell_type": "code",
   "execution_count": 7,
   "id": "5a60145f",
   "metadata": {},
   "outputs": [],
   "source": [
    "df=pd.read_csv(\"student_marks.csv\")\n",
    "df.head(5)"
   ]
  },
  {
   "cell_type": "code",
   "execution_count": 8,
   "id": "53df9ed0",
   "metadata": {},
   "outputs": [],
   "source": [
    "df=pd.read_csv(\"student_marks.csv\")\n",
    "df.tail(5)"
   ]
  },
  {
   "cell_type": "code",
   "execution_count": 9,
   "id": "04af39ff",
   "metadata": {},
   "outputs": [],
   "source": [
    "df=pd.read_csv(\"sample.csv\")\n",
    "df.add_prefix(\"car_\")"
   ]
  },
  {
   "cell_type": "code",
   "execution_count": 10,
   "id": "f6e1a5f0",
   "metadata": {},
   "outputs": [],
   "source": [
    "df=pd.read_csv(\"sample.csv\")\n",
    "df.add_suffix(\"_of_car\")"
   ]
  },
  {
   "cell_type": "code",
   "execution_count": 11,
   "id": "a3dd8da1",
   "metadata": {},
   "outputs": [],
   "source": [
    "df=pd.read_csv(\"sample.csv\")\n",
    "newdf=df.add_prefix(\"car_\")\n",
    "newdf=df.add_suffix(\"_of_car\")\n",
    "newdf\n"
   ]
  },
  {
   "cell_type": "code",
   "execution_count": 12,
   "id": "97f05d62",
   "metadata": {},
   "outputs": [],
   "source": [
    "df=pd.read_csv(\"sample.csv\")\n",
    "df.info()"
   ]
  },
  {
   "cell_type": "code",
   "execution_count": 13,
   "id": "8d614180",
   "metadata": {},
   "outputs": [],
   "source": [
    "df=pd.read_csv(\"sample.csv\")\n",
    "\n",
    "\n",
    "df.dropna()\n",
    "# df"
   ]
  },
  {
   "cell_type": "code",
   "execution_count": 14,
   "id": "76b6c56a",
   "metadata": {},
   "outputs": [],
   "source": [
    "df=pd.read_csv(\"sample.csv\")\n",
    "df.dropna(inplace=True)\n",
    "df"
   ]
  },
  {
   "cell_type": "code",
   "execution_count": 15,
   "id": "052f30ad",
   "metadata": {},
   "outputs": [],
   "source": [
    "df=pd.read_csv(\"sample.csv\")\n",
    "df.dropna(subset=[\"Name\",\"Brand\"])"
   ]
  },
  {
   "cell_type": "code",
   "execution_count": 16,
   "id": "02573f9f",
   "metadata": {},
   "outputs": [],
   "source": [
    "df=pd.read_csv(\"sample.csv\")\n",
    "df.fillna(0,inplace=True)\n",
    "df"
   ]
  },
  {
   "cell_type": "code",
   "execution_count": 17,
   "id": "35241e5d",
   "metadata": {},
   "outputs": [],
   "source": [
    "df=pd.read_csv(\"sample.csv\")\n",
    "df[\"Name\"].fillna(\"TATA\",inplace=True)\n",
    "df"
   ]
  },
  {
   "cell_type": "code",
   "execution_count": 18,
   "id": "d6d4cf51",
   "metadata": {},
   "outputs": [],
   "source": [
    "data=[1,2,3,4,5]\n",
    "df=pd.DataFrame(data)\n",
    "df.add(15)"
   ]
  },
  {
   "cell_type": "code",
   "execution_count": 19,
   "id": "7c65ec27",
   "metadata": {},
   "outputs": [],
   "source": [
    "x={\"A\":[1,2,3,4,5],\"B\":[6,7,8,9,10]}\n",
    "df=pd.DataFrame(x)\n",
    "# df\n",
    "df[\"C\"]=df[\"A\"]+df[\"B\"]\n",
    "# df[\"C\"]=df[\"A\"].add(5)\n",
    "df"
   ]
  },
  {
   "cell_type": "code",
   "execution_count": 20,
   "id": "465997a4",
   "metadata": {},
   "outputs": [],
   "source": [
    "data={\"X\":[50,40,30],\"Y\":[100.3,20,300],\"Z\":[1,2,3]}\n",
    "df=pd.DataFrame(data)\n",
    "print(df)\n",
    "df.sum(axis=1)\n",
    "# df[\"X\"].sum()\n",
    "# df"
   ]
  },
  {
   "cell_type": "code",
   "execution_count": 21,
   "id": "09ba7aa8",
   "metadata": {},
   "outputs": [],
   "source": [
    "df=pd.read_csv(\"Inventory_v2.csv\")\n",
    "df.columns"
   ]
  },
  {
   "cell_type": "code",
   "execution_count": 22,
   "id": "42ab5b44",
   "metadata": {},
   "outputs": [],
   "source": [
    "df=pd.read_csv(\"Inventory_v2.csv\")\n",
    "df.axes"
   ]
  },
  {
   "cell_type": "code",
   "execution_count": 23,
   "id": "4a3462e6",
   "metadata": {},
   "outputs": [],
   "source": [
    "df.values\n"
   ]
  },
  {
   "cell_type": "code",
   "execution_count": 24,
   "id": "99cc5b4d",
   "metadata": {},
   "outputs": [],
   "source": [
    "df=pd.read_csv(\"Inventory_v2.csv\")\n",
    "df.shape"
   ]
  },
  {
   "cell_type": "code",
   "execution_count": 25,
   "id": "8e9a4e2e",
   "metadata": {},
   "outputs": [],
   "source": [
    "df.describe"
   ]
  },
  {
   "cell_type": "code",
   "execution_count": 26,
   "id": "a6e609b5",
   "metadata": {},
   "outputs": [],
   "source": [
    "df=pd.read_csv(\"student_marks.csv\")\n",
    "# df\n",
    "x={\"Unnamed: 0\":\"Student Name\",\"DOB\":\"Date_of_birth\"}\n",
    "df.rename(columns=x,inplace=True)\n",
    "df\n",
    "df.drop([\"Gender\",\"Date_of_birth\"],axis=1,inplace=True)\n",
    "\n",
    "df\n",
    "df.drop(index=[3,4],axis=0)\n"
   ]
  },
  {
   "cell_type": "code",
   "execution_count": 27,
   "id": "e2e610fd",
   "metadata": {},
   "outputs": [],
   "source": [
    "df=pd.read_csv(\"sample.csv\")\n",
    "# df\n",
    "df.replace(\"BMW\",\"Mahindra\")"
   ]
  },
  {
   "cell_type": "code",
   "execution_count": 28,
   "id": "ff676118",
   "metadata": {},
   "outputs": [],
   "source": [
    "df.loc[4]"
   ]
  },
  {
   "cell_type": "code",
   "execution_count": 29,
   "id": "72d3bd66",
   "metadata": {},
   "outputs": [],
   "source": [
    "df.take([3,4])"
   ]
  },
  {
   "cell_type": "code",
   "execution_count": 30,
   "id": "d1210098",
   "metadata": {},
   "outputs": [],
   "source": [
    "df=pd.read_csv(\"sample.csv\")\n",
    "df\n",
    "df.replace(\"BMW\",\"Mahindra\", inplace=True)\n",
    "df\n",
    "# df.loc[3]\n",
    "df.take([3,4])"
   ]
  }
 ],
 "metadata": {
  "kernelspec": {
   "display_name": "Python 3",
   "language": "python",
   "name": "python3"
  },
  "language_info": {
   "codemirror_mode": {
    "name": "ipython",
    "version": 3
   },
   "file_extension": ".py",
   "mimetype": "text/x-python",
   "name": "python",
   "nbconvert_exporter": "python",
   "pygments_lexer": "ipython3",
   "version": "3.13.7"
  }
 },
 "nbformat": 4,
 "nbformat_minor": 5
}
