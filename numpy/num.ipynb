{
 "cells": [
  {
   "cell_type": "code",
   "execution_count": null,
   "id": "54ce4c47",
   "metadata": {},
   "outputs": [],
   "source": [
    "import numpy as np"
   ]
  },
  {
   "cell_type": "code",
   "execution_count": null,
   "id": "5fc313f7",
   "metadata": {},
   "outputs": [],
   "source": [
    "df=np.array(45)\n",
    "df"
   ]
  },
  {
   "cell_type": "code",
   "execution_count": null,
   "id": "0b06764e",
   "metadata": {},
   "outputs": [],
   "source": [
    "df=np.array([45])\n",
    "df"
   ]
  },
  {
   "cell_type": "code",
   "execution_count": null,
   "id": "7bcabe0d",
   "metadata": {},
   "outputs": [],
   "source": [
    "df=np.array(45)\n",
    "df"
   ]
  },
  {
   "cell_type": "code",
   "execution_count": null,
   "id": "12a80b15",
   "metadata": {},
   "outputs": [],
   "source": [
    "df=np.array([45])\n",
    "df.ndim"
   ]
  },
  {
   "cell_type": "code",
   "execution_count": null,
   "id": "c6a29afb",
   "metadata": {},
   "outputs": [],
   "source": [
    "df=np.array([45,27,35,67],ndmin=10)\n",
    "df"
   ]
  }
 ],
 "metadata": {
  "kernelspec": {
   "display_name": "Python 3",
   "language": "python",
   "name": "python3"
  },
  "language_info": {
   "codemirror_mode": {
    "name": "ipython",
    "version": 3
   },
   "file_extension": ".py",
   "mimetype": "text/x-python",
   "name": "python",
   "nbconvert_exporter": "python",
   "pygments_lexer": "ipython3",
   "version": "3.13.7"
  }
 },
 "nbformat": 4,
 "nbformat_minor": 5
}
